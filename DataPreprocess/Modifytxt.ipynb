{
 "cells": [
  {
   "cell_type": "code",
   "execution_count": 1,
   "id": "fe77770e",
   "metadata": {},
   "outputs": [],
   "source": [
    "def alter(file,old_str,new_str):\n",
    "    \"\"\"\n",
    "    替换文件中的字符串\n",
    "    :param file:文件名\n",
    "    :param old_str:就字符串\n",
    "    :param new_str:新字符串\n",
    "    :return:\n",
    "    \n",
    "    \"\"\"\n",
    "    file_data = \"\"\n",
    "    with open(file, \"r\", encoding=\"utf-8\") as f:\n",
    "        for line in f:\n",
    "            if old_str in line:\n",
    "                line = line.replace(old_str,new_str)\n",
    "            file_data += line\n",
    "    with open(file,\"w\",encoding=\"utf-8\") as f:\n",
    "        f.write(file_data)\n"
   ]
  },
  {
   "cell_type": "code",
   "execution_count": 2,
   "id": "19a6a35e",
   "metadata": {},
   "outputs": [],
   "source": [
    "alter(\"2007_train.txt\", \"/Users/wuweizhu/Desktop/\", \"/content/darknet/VOCdevkit/\")"
   ]
  },
  {
   "cell_type": "code",
   "execution_count": 3,
   "id": "e57a050a",
   "metadata": {},
   "outputs": [],
   "source": [
    "alter(\"2007_test.txt\", \"/Users/wuweizhu/Desktop/\", \"/content/darknet/VOCdevkit/\")"
   ]
  },
  {
   "cell_type": "code",
   "execution_count": 4,
   "id": "29dc858d",
   "metadata": {},
   "outputs": [],
   "source": [
    "alter(\"2007_val.txt\", \"/Users/wuweizhu/Desktop/\", \"/content/darknet/VOCdevkit/\")"
   ]
  },
  {
   "cell_type": "code",
   "execution_count": 5,
   "id": "daaab7c1",
   "metadata": {},
   "outputs": [],
   "source": [
    "alter(\"train.txt\", \"/Users/wuweizhu/Desktop/\", \"/content/darknet/VOCdevkit/\")"
   ]
  },
  {
   "cell_type": "code",
   "execution_count": null,
   "id": "fd76b9d8",
   "metadata": {},
   "outputs": [],
   "source": []
  }
 ],
 "metadata": {
  "kernelspec": {
   "display_name": "Python 3",
   "language": "python",
   "name": "python3"
  },
  "language_info": {
   "codemirror_mode": {
    "name": "ipython",
    "version": 3
   },
   "file_extension": ".py",
   "mimetype": "text/x-python",
   "name": "python",
   "nbconvert_exporter": "python",
   "pygments_lexer": "ipython3",
   "version": "3.9.4"
  }
 },
 "nbformat": 4,
 "nbformat_minor": 5
}
