{
 "cells": [
  {
   "cell_type": "code",
   "execution_count": 1,
   "id": "07741b01",
   "metadata": {},
   "outputs": [],
   "source": [
    "import os, shutil"
   ]
  },
  {
   "cell_type": "code",
   "execution_count": 2,
   "id": "c2a1240b",
   "metadata": {},
   "outputs": [
    {
     "name": "stdout",
     "output_type": "stream",
     "text": [
      "所有图片和对应的xml文件都是一一对应的。\n"
     ]
    }
   ],
   "source": [
    "def checkJpgXml(dir1, dir2, dir3, is_move=True):    \n",
    "    \"\"\"\n",
    "    dir1 是图片所在文件夹\n",
    "    dir2 是标注文件所在文件夹\n",
    "    dir3 是创建的，如果图片没有对应的xml文件，那就将图片放入dir3\n",
    "    is_move 是确认是否进行移动，否则只进行打印\n",
    "    \"\"\"\n",
    "    if not os.path.exists(dir3):\n",
    "        os.mkdir(dir3)\n",
    "    cnt = 0\n",
    "    for file in os.listdir(dir1):\n",
    "        f_name,f_ext = file.split(\".\")\n",
    "        if not os.path.exists(os.path.join(dir2, f_name+\".xml\")):\n",
    "            print(f_name)\n",
    "            if is_move:\n",
    "                cnt += 1\n",
    "                shutil.move(os.path.join(dir1,file), os.path.join(dir3, file))\n",
    "    if cnt > 0:\n",
    "        print(\"有%d个文件不符合要求，已打印。\"%(cnt))\n",
    "    else:\n",
    "        print(\"所有图片和对应的xml文件都是一一对应的。\")\n",
    "\n",
    "if __name__ == \"__main__\":\n",
    "    dir1 = r\"/Users/wuweizhu/Desktop/VOC2007/JPEGImages\"\n",
    "    dir2 = r\"/Users/wuweizhu/Desktop/VOC2007/Annotations\"\n",
    "    dir3 = r\"/Users/wuweizhu/Desktop/VOC2007/Allempty\"\n",
    "    checkJpgXml(dir1, dir2, dir3, False)"
   ]
  },
  {
   "cell_type": "code",
   "execution_count": null,
   "id": "911f0a58",
   "metadata": {},
   "outputs": [],
   "source": []
  }
 ],
 "metadata": {
  "kernelspec": {
   "display_name": "Python 3",
   "language": "python",
   "name": "python3"
  },
  "language_info": {
   "codemirror_mode": {
    "name": "ipython",
    "version": 3
   },
   "file_extension": ".py",
   "mimetype": "text/x-python",
   "name": "python",
   "nbconvert_exporter": "python",
   "pygments_lexer": "ipython3",
   "version": "3.9.4"
  }
 },
 "nbformat": 4,
 "nbformat_minor": 5
}
