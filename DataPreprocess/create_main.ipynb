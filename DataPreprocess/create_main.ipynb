{
 "cells": [
  {
   "cell_type": "code",
   "execution_count": 1,
   "id": "d45ecc9b",
   "metadata": {},
   "outputs": [],
   "source": [
    "import os  \n",
    "import random "
   ]
  },
  {
   "cell_type": "code",
   "execution_count": 2,
   "id": "e345a05c",
   "metadata": {},
   "outputs": [],
   "source": [
    "trainval_percent = 0.8\n",
    "train_percent = 0.8\n",
    "\n",
    "xmlfilepath = '/Users/wuweizhu/Desktop/VOC2007/Annotations'  \n",
    "txtsavepath = '/Users/wuweizhu/Desktop/VOC2007/ImageSets/Main'\n",
    "total_xml = os.listdir(xmlfilepath)  \n",
    "  \n",
    "num=len(total_xml)  \n",
    "list=range(num)  \n",
    "tv=int(num*trainval_percent)  \n",
    "tr=int(tv*train_percent)  \n",
    "trainval= random.sample(list,tv)  \n",
    "train=random.sample(trainval,tr)  \n",
    "  \n",
    "ftrainval = open('/Users/wuweizhu/Desktop/VOC2007/ImageSets/Main/trainval.txt', 'w')  \n",
    "ftest = open('/Users/wuweizhu/Desktop/VOC2007/ImageSets/Main/test.txt', 'w')  \n",
    "ftrain = open('/Users/wuweizhu/Desktop/VOC2007/ImageSets/Main/train.txt', 'w')  \n",
    "fval = open('/Users/wuweizhu/Desktop/VOC2007/ImageSets/Main/val.txt', 'w')  \n",
    "  \n",
    "for i  in list:  \n",
    "    name=total_xml[i][:-4]+'\\n'  \n",
    "    if i in trainval:  \n",
    "        ftrainval.write(name)  \n",
    "        if i in train:  \n",
    "            ftrain.write(name)  \n",
    "        else:  \n",
    "            fval.write(name)  \n",
    "    else:  \n",
    "        ftest.write(name)  \n",
    "  \n",
    "ftrainval.close()  \n",
    "ftrain.close()  \n",
    "fval.close()  \n",
    "ftest.close()"
   ]
  },
  {
   "cell_type": "code",
   "execution_count": null,
   "id": "5eabbf5d",
   "metadata": {},
   "outputs": [],
   "source": []
  }
 ],
 "metadata": {
  "kernelspec": {
   "display_name": "Python 3",
   "language": "python",
   "name": "python3"
  },
  "language_info": {
   "codemirror_mode": {
    "name": "ipython",
    "version": 3
   },
   "file_extension": ".py",
   "mimetype": "text/x-python",
   "name": "python",
   "nbconvert_exporter": "python",
   "pygments_lexer": "ipython3",
   "version": "3.9.4"
  }
 },
 "nbformat": 4,
 "nbformat_minor": 5
}
